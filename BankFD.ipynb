{
 "cells": [
  {
   "cell_type": "code",
   "execution_count": 1,
   "id": "3b4ded31",
   "metadata": {},
   "outputs": [],
   "source": [
    "import numpy as np\n",
    "import pandas as pd"
   ]
  },
  {
   "cell_type": "code",
   "execution_count": 2,
   "id": "453eb3dd",
   "metadata": {
    "scrolled": true
   },
   "outputs": [
    {
     "name": "stdout",
     "output_type": "stream",
     "text": [
      "<class 'pandas.core.frame.DataFrame'>\n",
      "RangeIndex: 67463 entries, 0 to 67462\n",
      "Data columns (total 35 columns):\n",
      " #   Column                        Non-Null Count  Dtype  \n",
      "---  ------                        --------------  -----  \n",
      " 0   ID                            67463 non-null  int64  \n",
      " 1   Loan Amount                   67463 non-null  int64  \n",
      " 2   Funded Amount                 67463 non-null  int64  \n",
      " 3   Funded Amount Investor        67463 non-null  float64\n",
      " 4   Term                          67463 non-null  int64  \n",
      " 5   Batch Enrolled                67463 non-null  object \n",
      " 6   Interest Rate                 67463 non-null  float64\n",
      " 7   Grade                         67463 non-null  object \n",
      " 8   Sub Grade                     67463 non-null  object \n",
      " 9   Employment Duration           67463 non-null  object \n",
      " 10  Home Ownership                67463 non-null  float64\n",
      " 11  Verification Status           67463 non-null  object \n",
      " 12  Payment Plan                  67463 non-null  object \n",
      " 13  Loan Title                    67463 non-null  object \n",
      " 14  Debit to Income               67463 non-null  float64\n",
      " 15  Delinquency - two years       67463 non-null  int64  \n",
      " 16  Inquires - six months         67463 non-null  int64  \n",
      " 17  Open Account                  67463 non-null  int64  \n",
      " 18  Public Record                 67463 non-null  int64  \n",
      " 19  Revolving Balance             67463 non-null  int64  \n",
      " 20  Revolving Utilities           67463 non-null  float64\n",
      " 21  Total Accounts                67463 non-null  int64  \n",
      " 22  Initial List Status           67463 non-null  object \n",
      " 23  Total Received Interest       67463 non-null  float64\n",
      " 24  Total Received Late Fee       67463 non-null  float64\n",
      " 25  Recoveries                    67463 non-null  float64\n",
      " 26  Collection Recovery Fee       67463 non-null  float64\n",
      " 27  Collection 12 months Medical  67463 non-null  int64  \n",
      " 28  Application Type              67463 non-null  object \n",
      " 29  Last week Pay                 67463 non-null  int64  \n",
      " 30  Accounts Delinquent           67463 non-null  int64  \n",
      " 31  Total Collection Amount       67463 non-null  int64  \n",
      " 32  Total Current Balance         67463 non-null  int64  \n",
      " 33  Total Revolving Credit Limit  67463 non-null  int64  \n",
      " 34  Loan Status                   67463 non-null  int64  \n",
      "dtypes: float64(9), int64(17), object(9)\n",
      "memory usage: 18.0+ MB\n"
     ]
    }
   ],
   "source": [
    "df_trainOriginal = pd.read_csv('train.csv')\n",
    "df_train = df_trainOriginal.copy()\n",
    "df_train.info()"
   ]
  },
  {
   "cell_type": "code",
   "execution_count": 3,
   "id": "f7cae85c",
   "metadata": {
    "scrolled": true
   },
   "outputs": [
    {
     "data": {
      "text/plain": [
       "0    61222\n",
       "1     6241\n",
       "Name: Loan Status, dtype: int64"
      ]
     },
     "execution_count": 3,
     "metadata": {},
     "output_type": "execute_result"
    }
   ],
   "source": [
    "df_train['Loan Status'].value_counts()"
   ]
  },
  {
   "cell_type": "markdown",
   "id": "b6c9c3c7",
   "metadata": {},
   "source": [
    "# Dimentionality Reduction And Cleaning Table"
   ]
  },
  {
   "cell_type": "markdown",
   "id": "73c28a60",
   "metadata": {},
   "source": [
    "## Removing Object Types"
   ]
  },
  {
   "cell_type": "code",
   "execution_count": 4,
   "id": "a9e54758",
   "metadata": {},
   "outputs": [
    {
     "name": "stdout",
     "output_type": "stream",
     "text": [
      "<class 'pandas.core.series.Series'>\n",
      "RangeIndex: 67463 entries, 0 to 67462\n",
      "Series name: Batch Enrolled\n",
      "Non-Null Count  Dtype \n",
      "--------------  ----- \n",
      "67463 non-null  object\n",
      "dtypes: object(1)\n",
      "memory usage: 527.2+ KB\n",
      "BAT3873588    3626\n",
      "BAT1586599    3142\n",
      "BAT1104812    2996\n",
      "BAT2252229    2557\n",
      "BAT2803411    2425\n",
      "BAT1780517    2403\n",
      "BAT1184694    2298\n",
      "BAT2078974    2290\n",
      "BAT2575549    2257\n",
      "BAT4694572    2248\n",
      "BAT4271519    2054\n",
      "BAT2558388    1963\n",
      "BAT3193689    1864\n",
      "BAT1930365    1844\n",
      "BAT2136391    1790\n",
      "BAT2333412    1775\n",
      "BAT3726927    1774\n",
      "BAT4136152    1766\n",
      "BAT5341619    1717\n",
      "BAT5525466    1709\n",
      "BAT5489674    1677\n",
      "BAT5629144    1639\n",
      "BAT1766061    1461\n",
      "BAT2833642    1421\n",
      "BAT5924421    1404\n",
      "BAT2522922    1399\n",
      "BAT2428731    1398\n",
      "BAT4808022    1303\n",
      "BAT4351734    1140\n",
      "BAT5547201    1127\n",
      "BAT5714674    1105\n",
      "BAT3461431    1068\n",
      "BAT224923      895\n",
      "BAT1761981     894\n",
      "BAT4722912     887\n",
      "BAT2003848     842\n",
      "BAT1467036     802\n",
      "BAT5849876     768\n",
      "BAT3865626     728\n",
      "BAT5811547     711\n",
      "BAT1135695     296\n",
      "Name: Batch Enrolled, dtype: int64 \n",
      "\n",
      "\n",
      "<class 'pandas.core.series.Series'>\n",
      "RangeIndex: 67463 entries, 0 to 67462\n",
      "Series name: Grade\n",
      "Non-Null Count  Dtype \n",
      "--------------  ----- \n",
      "67463 non-null  object\n",
      "dtypes: object(1)\n",
      "memory usage: 527.2+ KB\n",
      "C    19085\n",
      "B    18742\n",
      "A    12055\n",
      "D     8259\n",
      "E     6446\n",
      "F     2246\n",
      "G      630\n",
      "Name: Grade, dtype: int64 \n",
      "\n",
      "\n",
      "<class 'pandas.core.series.Series'>\n",
      "RangeIndex: 67463 entries, 0 to 67462\n",
      "Series name: Sub Grade\n",
      "Non-Null Count  Dtype \n",
      "--------------  ----- \n",
      "67463 non-null  object\n",
      "dtypes: object(1)\n",
      "memory usage: 527.2+ KB\n",
      "B4    4462\n",
      "C1    4188\n",
      "B3    3999\n",
      "A5    3540\n",
      "B2    3520\n",
      "B5    3408\n",
      "D1    3304\n",
      "C4    3250\n",
      "C2    3219\n",
      "C3    3121\n",
      "B1    2924\n",
      "C5    2472\n",
      "A4    2264\n",
      "D4    2050\n",
      "D2    1963\n",
      "D5    1952\n",
      "A2    1837\n",
      "D3    1824\n",
      "E2    1746\n",
      "A3    1685\n",
      "A1    1364\n",
      "E3    1321\n",
      "E1    1298\n",
      "E4    1117\n",
      "F2     947\n",
      "F1     824\n",
      "E5     769\n",
      "F5     582\n",
      "F3     578\n",
      "G2     447\n",
      "F4     441\n",
      "G1     366\n",
      "G5     284\n",
      "G3     246\n",
      "G4     151\n",
      "Name: Sub Grade, dtype: int64 \n",
      "\n",
      "\n",
      "<class 'pandas.core.series.Series'>\n",
      "RangeIndex: 67463 entries, 0 to 67462\n",
      "Series name: Employment Duration\n",
      "Non-Null Count  Dtype \n",
      "--------------  ----- \n",
      "67463 non-null  object\n",
      "dtypes: object(1)\n",
      "memory usage: 527.2+ KB\n",
      "MORTGAGE    36351\n",
      "RENT        24150\n",
      "OWN          6962\n",
      "Name: Employment Duration, dtype: int64 \n",
      "\n",
      "\n",
      "<class 'pandas.core.series.Series'>\n",
      "RangeIndex: 67463 entries, 0 to 67462\n",
      "Series name: Verification Status\n",
      "Non-Null Count  Dtype \n",
      "--------------  ----- \n",
      "67463 non-null  object\n",
      "dtypes: object(1)\n",
      "memory usage: 527.2+ KB\n",
      "Source Verified    33036\n",
      "Verified           18078\n",
      "Not Verified       16349\n",
      "Name: Verification Status, dtype: int64 \n",
      "\n",
      "\n",
      "<class 'pandas.core.series.Series'>\n",
      "RangeIndex: 67463 entries, 0 to 67462\n",
      "Series name: Payment Plan\n",
      "Non-Null Count  Dtype \n",
      "--------------  ----- \n",
      "67463 non-null  object\n",
      "dtypes: object(1)\n",
      "memory usage: 527.2+ KB\n",
      "n    67463\n",
      "Name: Payment Plan, dtype: int64 \n",
      "\n",
      "\n",
      "<class 'pandas.core.series.Series'>\n",
      "RangeIndex: 67463 entries, 0 to 67462\n",
      "Series name: Loan Title\n",
      "Non-Null Count  Dtype \n",
      "--------------  ----- \n",
      "67463 non-null  object\n",
      "dtypes: object(1)\n",
      "memory usage: 527.2+ KB\n",
      "Credit card refinancing    30728\n",
      "Debt consolidation         24841\n",
      "Debt Consolidation          3544\n",
      "Other                       2455\n",
      "Home improvement            2211\n",
      "                           ...  \n",
      "Home loan                      6\n",
      "Personal loan                  5\n",
      "Getting Ahead                  5\n",
      "Credit                         4\n",
      "bills                          4\n",
      "Name: Loan Title, Length: 109, dtype: int64 \n",
      "\n",
      "\n",
      "<class 'pandas.core.series.Series'>\n",
      "RangeIndex: 67463 entries, 0 to 67462\n",
      "Series name: Initial List Status\n",
      "Non-Null Count  Dtype \n",
      "--------------  ----- \n",
      "67463 non-null  object\n",
      "dtypes: object(1)\n",
      "memory usage: 527.2+ KB\n",
      "w    36299\n",
      "f    31164\n",
      "Name: Initial List Status, dtype: int64 \n",
      "\n",
      "\n",
      "<class 'pandas.core.series.Series'>\n",
      "RangeIndex: 67463 entries, 0 to 67462\n",
      "Series name: Application Type\n",
      "Non-Null Count  Dtype \n",
      "--------------  ----- \n",
      "67463 non-null  object\n",
      "dtypes: object(1)\n",
      "memory usage: 527.2+ KB\n",
      "INDIVIDUAL    67340\n",
      "JOINT           123\n",
      "Name: Application Type, dtype: int64 \n",
      "\n",
      "\n"
     ]
    }
   ],
   "source": [
    "columnHeaders = ['Batch Enrolled','Grade','Sub Grade','Employment Duration','Verification Status','Payment Plan',\n",
    "                 'Loan Title','Initial List Status','Application Type']\n",
    "# print(\"The Column Header :\", joinColumnHeaders)\n",
    "\n",
    "for header in columnHeaders:\n",
    "    temp = f'{header}'\n",
    "    df_train[temp].info()\n",
    "    print(df_train[temp].value_counts(),\"\\n\\n\")"
   ]
  },
  {
   "cell_type": "code",
   "execution_count": 5,
   "id": "1a2e449b",
   "metadata": {
    "scrolled": true
   },
   "outputs": [],
   "source": [
    "cleanup = {\"Employment Duration\": {\"MORTGAGE\": 0, \"RENT\": 1, \"OWN\": 2},\n",
    "           \"Verification Status\": {\"Source Verified\": 0, \"Verified\": 1, \"Not Verified\": 2}, \n",
    "           \"Initial List Status\": {\"w\": 0, \"f\": 1}, \n",
    "           \"Application Type\": {\"INDIVIDUAL\": 0, \"JOINT\": 1}, \n",
    "           \"Grade\": {\"A\": 0, \"B\": 1, \"C\": 2, \"D\": 3, \"E\": 4, \"F\": 5, \"G\": 6},\n",
    "           \"Loan Title\": {\"Debt Consolidation\": 0, \"Debt consolidation\": 0, \"DEBT CONSOLIDATION\": 0, \"Debt Consolidation Loan\": 0,\n",
    "                          \"consolidate\": 0, \"Consolidation\": 0, \"debt\": 0, \"debt consolidation\": 0, \"Consolidate\": 0, \n",
    "                          \"Consolidated\": 0, \"get out of debt\": 0, \"consolidation loan\": 0, \"Dept consolidation\": 0, \"Debt\": 0, \n",
    "                          \"pay off bills\": 0, \"Debt Consolidation 2013\": 0, \"debt loan\": 0, \"Consolidation Loan\": 0, \"bills\": 0, \n",
    "                          \"Get Debt Free\": 0, \"consolidation\": 0, \"Debt Reduction\": 0, \"CONSOLIDATE\": 0, \"Bill Consolidation\": 0, \n",
    "                          \"Debt Payoff\": 0, \"Pay Off\": 0, \"Debt Loan\": 0, \"CONSOLIDATION\": 0, \"Debt Free\": 0, \n",
    "                          \"debt consolidation loan\": 0, \"conso\": 0, \"Loan Consolidation\": 0, \"Debt payoff\": 0, \"Bill Payoff\": 0, \n",
    "                          \"Payoff\": 0, \"payoff\": 0,\n",
    "\n",
    "                          \"Credit card refinancing\": 1, \"Credit Consolidation\": 1, \"Credit Cards\": 1, \"credit card consolidation\": 1, \n",
    "                          \"Credit card payoff\": 1, \"Credit Card Consolidation\": 1, \"credit card\": 1, \"Refinance\": 1, \n",
    "                          \"Credit Card Refi\": 1, \"CC Refi\": 1, \"Card Consolidation\": 1, \"cards\": 1, \"Cards\": 1, \n",
    "                          \"Credit Card Loan\": 1, \"Credit Card Debt\": 1, \"CC Refinance\": 1, \"CC consolidation\": 1, \n",
    "                          \"Credit Card\": 1, \"Credit Card Refinance\": 1, \"Credit Loan\": 1, \"credit card refinance\": 1, \n",
    "                          \"Credit Card consolidation\": 1, \"Credit Card Paydown\": 1, \"Credit card refinance\": 1, \n",
    "                          \"Credit card pay off\": 1, \"credit pay off\": 1, \"CC-Refinance\": 1, \"Credit\": 1, \"CC Consolidation\": 1, \n",
    "                          \"Credit Card Payoff\": 1, \"Credit payoff\": 1, \"Credit Card Refinance Loan\": 1, \"CC Loan\": 1, \"CC\": 1, \n",
    "                          \"refi\": 1, \"Refinance Loan\": 1,\n",
    "                          \n",
    "                          \"Home improvement\": 2, \"Moving and relocation\": 2, \"Home Improvement\": 2, \"Car financing\": 2, \n",
    "                          \"home improvement\": 2, \"Home buying\": 2, \"Bathroom\": 2, \"House\": 2, \"Home\": 2, \"Car Loan\": 2, \n",
    "                          \"Pool\": 2, \"Home Improvement Loan\": 2, \"Home loan\": 2,\n",
    "                          \n",
    "                          \"Green loan\": 3, \"Other\": 3, \"Lending Club\": 3, \"Major purchase\": 3, \"Business\": 3, \"Personal Loan\": 3, \n",
    "                          \"Loan 1\": 3, \"Freedom\": 3, \"Personal loan\": 3, \"Personal\": 3, \"vacation\": 3, \"MYLOAN\": 3, \n",
    "                          \"My Loan\": 3, \"Loan\": 3, \"Wedding Loan\": 3, \"personal\": 3, \"Vacation\": 3, \n",
    "                          \"Lending loan\": 3, \"relief\": 3, \"loan1\": 3, \"Getting Ahead\": 3,\n",
    "                          \n",
    "                          \"Medical expenses\": 4, \"Medical\": 4, \"Medical loan\": 4}}\n",
    "df_train = df_train.replace(cleanup)"
   ]
  },
  {
   "cell_type": "code",
   "execution_count": 6,
   "id": "aa7016ca",
   "metadata": {},
   "outputs": [
    {
     "name": "stdout",
     "output_type": "stream",
     "text": [
      "[1 2 5 0 6 4 3]\n"
     ]
    }
   ],
   "source": [
    "print(df_train['Grade'].unique())"
   ]
  },
  {
   "cell_type": "code",
   "execution_count": 7,
   "id": "cbda8082",
   "metadata": {
    "scrolled": true
   },
   "outputs": [],
   "source": [
    "df_train['Batch Enrolled'] = df_train['Batch Enrolled'].astype('|S')\n",
    "df_train['Sub Grade'] = df_train['Sub Grade'].astype('|S')"
   ]
  },
  {
   "cell_type": "code",
   "execution_count": 8,
   "id": "52e7d566",
   "metadata": {},
   "outputs": [],
   "source": [
    "# ID can be removed as it will provide no learning benefit\n",
    "# Accounts Delinquent can be removed as all values are 0\n",
    "# Payment plan is also just a single values\n",
    "\n",
    "#  REMOVING BATCH ENROLLED AND SUB GRADE FOR NOW\n",
    "#  ****** IF TRAINING NEEDS IMPROVEMENT, WE CAN ADD THEM BACK LATER\n",
    "\n",
    "df_train.drop(df_train.columns[30], axis=1, inplace=True)\n",
    "df_train.drop(df_train.columns[12], axis=1, inplace=True)\n",
    "df_train.drop(df_train.columns[8], axis=1, inplace=True)\n",
    "df_train.drop(df_train.columns[5], axis=1, inplace=True)\n",
    "df_train.drop(df_train.columns[0], axis=1, inplace=True)"
   ]
  },
  {
   "cell_type": "code",
   "execution_count": 9,
   "id": "102dc5af",
   "metadata": {
    "scrolled": true
   },
   "outputs": [
    {
     "name": "stdout",
     "output_type": "stream",
     "text": [
      "<class 'pandas.core.frame.DataFrame'>\n",
      "RangeIndex: 67463 entries, 0 to 67462\n",
      "Data columns (total 30 columns):\n",
      " #   Column                        Non-Null Count  Dtype  \n",
      "---  ------                        --------------  -----  \n",
      " 0   Loan Amount                   67463 non-null  int64  \n",
      " 1   Funded Amount                 67463 non-null  int64  \n",
      " 2   Funded Amount Investor        67463 non-null  float64\n",
      " 3   Term                          67463 non-null  int64  \n",
      " 4   Interest Rate                 67463 non-null  float64\n",
      " 5   Grade                         67463 non-null  int64  \n",
      " 6   Employment Duration           67463 non-null  int64  \n",
      " 7   Home Ownership                67463 non-null  float64\n",
      " 8   Verification Status           67463 non-null  int64  \n",
      " 9   Loan Title                    67463 non-null  int64  \n",
      " 10  Debit to Income               67463 non-null  float64\n",
      " 11  Delinquency - two years       67463 non-null  int64  \n",
      " 12  Inquires - six months         67463 non-null  int64  \n",
      " 13  Open Account                  67463 non-null  int64  \n",
      " 14  Public Record                 67463 non-null  int64  \n",
      " 15  Revolving Balance             67463 non-null  int64  \n",
      " 16  Revolving Utilities           67463 non-null  float64\n",
      " 17  Total Accounts                67463 non-null  int64  \n",
      " 18  Initial List Status           67463 non-null  int64  \n",
      " 19  Total Received Interest       67463 non-null  float64\n",
      " 20  Total Received Late Fee       67463 non-null  float64\n",
      " 21  Recoveries                    67463 non-null  float64\n",
      " 22  Collection Recovery Fee       67463 non-null  float64\n",
      " 23  Collection 12 months Medical  67463 non-null  int64  \n",
      " 24  Application Type              67463 non-null  int64  \n",
      " 25  Last week Pay                 67463 non-null  int64  \n",
      " 26  Total Collection Amount       67463 non-null  int64  \n",
      " 27  Total Current Balance         67463 non-null  int64  \n",
      " 28  Total Revolving Credit Limit  67463 non-null  int64  \n",
      " 29  Loan Status                   67463 non-null  int64  \n",
      "dtypes: float64(9), int64(21)\n",
      "memory usage: 15.4 MB\n"
     ]
    }
   ],
   "source": [
    "df_train.info()"
   ]
  },
  {
   "cell_type": "code",
   "execution_count": null,
   "id": "6e2c47e9",
   "metadata": {},
   "outputs": [],
   "source": []
  },
  {
   "cell_type": "markdown",
   "id": "c6068eff",
   "metadata": {},
   "source": [
    "# Performing Normalization On Dataset"
   ]
  },
  {
   "cell_type": "code",
   "execution_count": 10,
   "id": "7c1ac500",
   "metadata": {},
   "outputs": [],
   "source": [
    "from sklearn.preprocessing import MinMaxScaler"
   ]
  },
  {
   "cell_type": "code",
   "execution_count": 11,
   "id": "17ce01dc",
   "metadata": {},
   "outputs": [],
   "source": [
    "scaler = MinMaxScaler()\n",
    "scaler.fit(df_train)\n",
    "scaled = scaler.fit_transform(df_train)\n",
    "df_train = pd.DataFrame(scaled, columns=df_train.columns)"
   ]
  },
  {
   "cell_type": "code",
   "execution_count": null,
   "id": "cf09054c",
   "metadata": {},
   "outputs": [],
   "source": []
  },
  {
   "cell_type": "markdown",
   "id": "3296263b",
   "metadata": {},
   "source": [
    "# Feature Selection Process For Dimentionality Reduction"
   ]
  },
  {
   "cell_type": "code",
   "execution_count": 12,
   "id": "9be15ee6",
   "metadata": {},
   "outputs": [],
   "source": [
    "# from mlxtend.feature_selection import SequentialFeatureSelector as sfs\n",
    "# from sklearn.linear_model import LogisticRegression"
   ]
  },
  {
   "cell_type": "code",
   "execution_count": 13,
   "id": "0d7b7284",
   "metadata": {},
   "outputs": [],
   "source": [
    "# y_train = df_train['Loan Status']\n",
    "# x_train = df_train.copy()\n",
    "# x_train.drop(x_train.columns[29], axis=1, inplace=True)"
   ]
  },
  {
   "cell_type": "code",
   "execution_count": 14,
   "id": "5401b332",
   "metadata": {},
   "outputs": [],
   "source": [
    "# x_train_small = x_train.head(1000)\n",
    "# y_train_small = y_train.head(1000)"
   ]
  },
  {
   "cell_type": "code",
   "execution_count": 15,
   "id": "d458eee5",
   "metadata": {
    "scrolled": true
   },
   "outputs": [],
   "source": [
    "# logR = LogisticRegression(max_iter=100)\n",
    "# sfs1 = sfs(logR, k_features=5, forward=True, cv=15, verbose=2, scoring='accuracy')\n",
    "# sfs1 = sfs1.fit(x_train_small, y_train_small)\n",
    "\n",
    "# # FIRST TRY WITH A SMALLER DATASET OF LIKE 5 THOUSAND ROWS"
   ]
  },
  {
   "cell_type": "code",
   "execution_count": 16,
   "id": "07e8bf46",
   "metadata": {},
   "outputs": [],
   "source": [
    "# sfs2 = sfs1.get_metric_dict()"
   ]
  },
  {
   "cell_type": "code",
   "execution_count": 17,
   "id": "4ada7a89",
   "metadata": {},
   "outputs": [],
   "source": [
    "# sfs2 = pd.DataFrame.from_dict(sfs2)"
   ]
  },
  {
   "cell_type": "code",
   "execution_count": 18,
   "id": "bbdffde1",
   "metadata": {},
   "outputs": [],
   "source": [
    "# sfs2"
   ]
  },
  {
   "cell_type": "code",
   "execution_count": 19,
   "id": "d2c55caa",
   "metadata": {
    "scrolled": true
   },
   "outputs": [],
   "source": [
    "# print(sfs2[5]['feature_names'])"
   ]
  },
  {
   "cell_type": "code",
   "execution_count": 20,
   "id": "015aab7d",
   "metadata": {
    "scrolled": true
   },
   "outputs": [],
   "source": [
    "# df_train.info()"
   ]
  },
  {
   "cell_type": "markdown",
   "id": "8b8b0638",
   "metadata": {},
   "source": [
    "# Instead of removing data we will synthesize data for the minority using SMOTE"
   ]
  },
  {
   "cell_type": "code",
   "execution_count": 21,
   "id": "ff831796",
   "metadata": {},
   "outputs": [],
   "source": [
    "from imblearn.over_sampling import SMOTE"
   ]
  },
  {
   "cell_type": "code",
   "execution_count": 22,
   "id": "6c7e074b",
   "metadata": {},
   "outputs": [],
   "source": [
    "y_train = df_train['Loan Status']\n",
    "x_train = df_train.copy()\n",
    "x_train.drop(x_train.columns[29], axis=1, inplace=True)"
   ]
  },
  {
   "cell_type": "code",
   "execution_count": 23,
   "id": "3dd4a3f3",
   "metadata": {},
   "outputs": [],
   "source": [
    "sm = SMOTE(sampling_strategy=1, k_neighbors=3, random_state=None)\n",
    "x_train, y_train = sm.fit_resample(x_train,y_train)"
   ]
  },
  {
   "cell_type": "code",
   "execution_count": 24,
   "id": "8ac1f2ea",
   "metadata": {
    "scrolled": true
   },
   "outputs": [
    {
     "name": "stdout",
     "output_type": "stream",
     "text": [
      "<class 'pandas.core.series.Series'>\n",
      "RangeIndex: 122444 entries, 0 to 122443\n",
      "Series name: Loan Status\n",
      "Non-Null Count   Dtype  \n",
      "--------------   -----  \n",
      "122444 non-null  float64\n",
      "dtypes: float64(1)\n",
      "memory usage: 956.7 KB\n"
     ]
    }
   ],
   "source": [
    "y_train.info()"
   ]
  },
  {
   "cell_type": "code",
   "execution_count": 25,
   "id": "36d1557e",
   "metadata": {
    "scrolled": true
   },
   "outputs": [
    {
     "name": "stdout",
     "output_type": "stream",
     "text": [
      "<class 'pandas.core.frame.DataFrame'>\n",
      "RangeIndex: 122444 entries, 0 to 122443\n",
      "Data columns (total 29 columns):\n",
      " #   Column                        Non-Null Count   Dtype  \n",
      "---  ------                        --------------   -----  \n",
      " 0   Loan Amount                   122444 non-null  float64\n",
      " 1   Funded Amount                 122444 non-null  float64\n",
      " 2   Funded Amount Investor        122444 non-null  float64\n",
      " 3   Term                          122444 non-null  float64\n",
      " 4   Interest Rate                 122444 non-null  float64\n",
      " 5   Grade                         122444 non-null  float64\n",
      " 6   Employment Duration           122444 non-null  float64\n",
      " 7   Home Ownership                122444 non-null  float64\n",
      " 8   Verification Status           122444 non-null  float64\n",
      " 9   Loan Title                    122444 non-null  float64\n",
      " 10  Debit to Income               122444 non-null  float64\n",
      " 11  Delinquency - two years       122444 non-null  float64\n",
      " 12  Inquires - six months         122444 non-null  float64\n",
      " 13  Open Account                  122444 non-null  float64\n",
      " 14  Public Record                 122444 non-null  float64\n",
      " 15  Revolving Balance             122444 non-null  float64\n",
      " 16  Revolving Utilities           122444 non-null  float64\n",
      " 17  Total Accounts                122444 non-null  float64\n",
      " 18  Initial List Status           122444 non-null  float64\n",
      " 19  Total Received Interest       122444 non-null  float64\n",
      " 20  Total Received Late Fee       122444 non-null  float64\n",
      " 21  Recoveries                    122444 non-null  float64\n",
      " 22  Collection Recovery Fee       122444 non-null  float64\n",
      " 23  Collection 12 months Medical  122444 non-null  float64\n",
      " 24  Application Type              122444 non-null  float64\n",
      " 25  Last week Pay                 122444 non-null  float64\n",
      " 26  Total Collection Amount       122444 non-null  float64\n",
      " 27  Total Current Balance         122444 non-null  float64\n",
      " 28  Total Revolving Credit Limit  122444 non-null  float64\n",
      "dtypes: float64(29)\n",
      "memory usage: 27.1 MB\n"
     ]
    }
   ],
   "source": [
    "x_train.info()"
   ]
  },
  {
   "cell_type": "markdown",
   "id": "9bf6cd50",
   "metadata": {},
   "source": [
    "# Starting The Learning Process Using Keras"
   ]
  },
  {
   "cell_type": "code",
   "execution_count": 26,
   "id": "f3e96adb",
   "metadata": {},
   "outputs": [
    {
     "ename": "KeyboardInterrupt",
     "evalue": "",
     "output_type": "error",
     "traceback": [
      "\u001b[1;31m---------------------------------------------------------------------------\u001b[0m",
      "\u001b[1;31mKeyboardInterrupt\u001b[0m                         Traceback (most recent call last)",
      "Input \u001b[1;32mIn [26]\u001b[0m, in \u001b[0;36m<cell line: 1>\u001b[1;34m()\u001b[0m\n\u001b[1;32m----> 1\u001b[0m \u001b[38;5;28;01mfrom\u001b[39;00m \u001b[38;5;21;01mtensorflow\u001b[39;00m\u001b[38;5;21;01m.\u001b[39;00m\u001b[38;5;21;01mkeras\u001b[39;00m\u001b[38;5;21;01m.\u001b[39;00m\u001b[38;5;21;01mmodels\u001b[39;00m \u001b[38;5;28;01mimport\u001b[39;00m Sequential\n\u001b[0;32m      2\u001b[0m \u001b[38;5;28;01mfrom\u001b[39;00m \u001b[38;5;21;01mtensorflow\u001b[39;00m\u001b[38;5;21;01m.\u001b[39;00m\u001b[38;5;21;01mkeras\u001b[39;00m\u001b[38;5;21;01m.\u001b[39;00m\u001b[38;5;21;01mlayers\u001b[39;00m \u001b[38;5;28;01mimport\u001b[39;00m Dense\n\u001b[0;32m      3\u001b[0m \u001b[38;5;28;01mfrom\u001b[39;00m \u001b[38;5;21;01msklearn\u001b[39;00m\u001b[38;5;21;01m.\u001b[39;00m\u001b[38;5;21;01mmodel_selection\u001b[39;00m \u001b[38;5;28;01mimport\u001b[39;00m train_test_split\n",
      "File \u001b[1;32m~\\anaconda3\\lib\\site-packages\\tensorflow\\__init__.py:476\u001b[0m, in \u001b[0;36m<module>\u001b[1;34m\u001b[0m\n\u001b[0;32m    474\u001b[0m \u001b[38;5;28;01mif\u001b[39;00m \u001b[38;5;28mhasattr\u001b[39m(_current_module, \u001b[38;5;124m\"\u001b[39m\u001b[38;5;124mkeras\u001b[39m\u001b[38;5;124m\"\u001b[39m):\n\u001b[0;32m    475\u001b[0m   \u001b[38;5;28;01mtry\u001b[39;00m:\n\u001b[1;32m--> 476\u001b[0m     \u001b[43m_keras\u001b[49m\u001b[38;5;241;43m.\u001b[39;49m\u001b[43m_load\u001b[49m\u001b[43m(\u001b[49m\u001b[43m)\u001b[49m\n\u001b[0;32m    477\u001b[0m   \u001b[38;5;28;01mexcept\u001b[39;00m \u001b[38;5;167;01mImportError\u001b[39;00m:\n\u001b[0;32m    478\u001b[0m     \u001b[38;5;28;01mpass\u001b[39;00m\n",
      "File \u001b[1;32m~\\anaconda3\\lib\\site-packages\\tensorflow\\python\\util\\lazy_loader.py:41\u001b[0m, in \u001b[0;36mLazyLoader._load\u001b[1;34m(self)\u001b[0m\n\u001b[0;32m     39\u001b[0m \u001b[38;5;124;03m\"\"\"Load the module and insert it into the parent's globals.\"\"\"\u001b[39;00m\n\u001b[0;32m     40\u001b[0m \u001b[38;5;66;03m# Import the target module and insert it into the parent's namespace\u001b[39;00m\n\u001b[1;32m---> 41\u001b[0m module \u001b[38;5;241m=\u001b[39m \u001b[43mimportlib\u001b[49m\u001b[38;5;241;43m.\u001b[39;49m\u001b[43mimport_module\u001b[49m\u001b[43m(\u001b[49m\u001b[38;5;28;43mself\u001b[39;49m\u001b[38;5;241;43m.\u001b[39;49m\u001b[38;5;18;43m__name__\u001b[39;49m\u001b[43m)\u001b[49m\n\u001b[0;32m     42\u001b[0m \u001b[38;5;28mself\u001b[39m\u001b[38;5;241m.\u001b[39m_parent_module_globals[\u001b[38;5;28mself\u001b[39m\u001b[38;5;241m.\u001b[39m_local_name] \u001b[38;5;241m=\u001b[39m module\n\u001b[0;32m     44\u001b[0m \u001b[38;5;66;03m# Emit a warning if one was specified\u001b[39;00m\n",
      "File \u001b[1;32m~\\anaconda3\\lib\\importlib\\__init__.py:127\u001b[0m, in \u001b[0;36mimport_module\u001b[1;34m(name, package)\u001b[0m\n\u001b[0;32m    125\u001b[0m             \u001b[38;5;28;01mbreak\u001b[39;00m\n\u001b[0;32m    126\u001b[0m         level \u001b[38;5;241m+\u001b[39m\u001b[38;5;241m=\u001b[39m \u001b[38;5;241m1\u001b[39m\n\u001b[1;32m--> 127\u001b[0m \u001b[38;5;28;01mreturn\u001b[39;00m \u001b[43m_bootstrap\u001b[49m\u001b[38;5;241;43m.\u001b[39;49m\u001b[43m_gcd_import\u001b[49m\u001b[43m(\u001b[49m\u001b[43mname\u001b[49m\u001b[43m[\u001b[49m\u001b[43mlevel\u001b[49m\u001b[43m:\u001b[49m\u001b[43m]\u001b[49m\u001b[43m,\u001b[49m\u001b[43m \u001b[49m\u001b[43mpackage\u001b[49m\u001b[43m,\u001b[49m\u001b[43m \u001b[49m\u001b[43mlevel\u001b[49m\u001b[43m)\u001b[49m\n",
      "File \u001b[1;32m~\\anaconda3\\lib\\site-packages\\keras\\api\\__init__.py:8\u001b[0m, in \u001b[0;36m<module>\u001b[1;34m\u001b[0m\n\u001b[0;32m      3\u001b[0m \u001b[38;5;124;03m\"\"\"Public API for tf. namespace.\u001b[39;00m\n\u001b[0;32m      4\u001b[0m \u001b[38;5;124;03m\"\"\"\u001b[39;00m\n\u001b[0;32m      6\u001b[0m \u001b[38;5;28;01mimport\u001b[39;00m \u001b[38;5;21;01msys\u001b[39;00m \u001b[38;5;28;01mas\u001b[39;00m \u001b[38;5;21;01m_sys\u001b[39;00m\n\u001b[1;32m----> 8\u001b[0m \u001b[38;5;28;01mfrom\u001b[39;00m \u001b[38;5;21;01mkeras\u001b[39;00m\u001b[38;5;21;01m.\u001b[39;00m\u001b[38;5;21;01mapi\u001b[39;00m \u001b[38;5;28;01mimport\u001b[39;00m keras\n\u001b[0;32m      9\u001b[0m \u001b[38;5;28;01mfrom\u001b[39;00m \u001b[38;5;21;01mtensorflow\u001b[39;00m\u001b[38;5;21;01m.\u001b[39;00m\u001b[38;5;21;01mpython\u001b[39;00m\u001b[38;5;21;01m.\u001b[39;00m\u001b[38;5;21;01mutil\u001b[39;00m \u001b[38;5;28;01mimport\u001b[39;00m module_wrapper \u001b[38;5;28;01mas\u001b[39;00m _module_wrapper\n\u001b[0;32m     11\u001b[0m \u001b[38;5;28;01mif\u001b[39;00m \u001b[38;5;129;01mnot\u001b[39;00m \u001b[38;5;28misinstance\u001b[39m(_sys\u001b[38;5;241m.\u001b[39mmodules[\u001b[38;5;18m__name__\u001b[39m], _module_wrapper\u001b[38;5;241m.\u001b[39mTFModuleWrapper):\n",
      "File \u001b[1;32m~\\anaconda3\\lib\\site-packages\\keras\\api\\keras\\__init__.py:15\u001b[0m, in \u001b[0;36m<module>\u001b[1;34m\u001b[0m\n\u001b[0;32m     13\u001b[0m \u001b[38;5;28;01mfrom\u001b[39;00m \u001b[38;5;21;01mkeras\u001b[39;00m\u001b[38;5;21;01m.\u001b[39;00m\u001b[38;5;21;01mapi\u001b[39;00m\u001b[38;5;21;01m.\u001b[39;00m\u001b[38;5;21;01mkeras\u001b[39;00m \u001b[38;5;28;01mimport\u001b[39;00m __internal__\n\u001b[0;32m     14\u001b[0m \u001b[38;5;28;01mfrom\u001b[39;00m \u001b[38;5;21;01mkeras\u001b[39;00m\u001b[38;5;21;01m.\u001b[39;00m\u001b[38;5;21;01mapi\u001b[39;00m\u001b[38;5;21;01m.\u001b[39;00m\u001b[38;5;21;01mkeras\u001b[39;00m \u001b[38;5;28;01mimport\u001b[39;00m activations\n\u001b[1;32m---> 15\u001b[0m \u001b[38;5;28;01mfrom\u001b[39;00m \u001b[38;5;21;01mkeras\u001b[39;00m\u001b[38;5;21;01m.\u001b[39;00m\u001b[38;5;21;01mapi\u001b[39;00m\u001b[38;5;21;01m.\u001b[39;00m\u001b[38;5;21;01mkeras\u001b[39;00m \u001b[38;5;28;01mimport\u001b[39;00m applications\n\u001b[0;32m     16\u001b[0m \u001b[38;5;28;01mfrom\u001b[39;00m \u001b[38;5;21;01mkeras\u001b[39;00m\u001b[38;5;21;01m.\u001b[39;00m\u001b[38;5;21;01mapi\u001b[39;00m\u001b[38;5;21;01m.\u001b[39;00m\u001b[38;5;21;01mkeras\u001b[39;00m \u001b[38;5;28;01mimport\u001b[39;00m backend\n\u001b[0;32m     17\u001b[0m \u001b[38;5;28;01mfrom\u001b[39;00m \u001b[38;5;21;01mkeras\u001b[39;00m\u001b[38;5;21;01m.\u001b[39;00m\u001b[38;5;21;01mapi\u001b[39;00m\u001b[38;5;21;01m.\u001b[39;00m\u001b[38;5;21;01mkeras\u001b[39;00m \u001b[38;5;28;01mimport\u001b[39;00m callbacks\n",
      "File \u001b[1;32m~\\anaconda3\\lib\\site-packages\\keras\\api\\keras\\applications\\__init__.py:8\u001b[0m, in \u001b[0;36m<module>\u001b[1;34m\u001b[0m\n\u001b[0;32m      3\u001b[0m \u001b[38;5;124;03m\"\"\"Keras Applications are premade architectures with pre-trained weights.\u001b[39;00m\n\u001b[0;32m      4\u001b[0m \u001b[38;5;124;03m\"\"\"\u001b[39;00m\n\u001b[0;32m      6\u001b[0m \u001b[38;5;28;01mimport\u001b[39;00m \u001b[38;5;21;01msys\u001b[39;00m \u001b[38;5;28;01mas\u001b[39;00m \u001b[38;5;21;01m_sys\u001b[39;00m\n\u001b[1;32m----> 8\u001b[0m \u001b[38;5;28;01mfrom\u001b[39;00m \u001b[38;5;21;01mkeras\u001b[39;00m\u001b[38;5;21;01m.\u001b[39;00m\u001b[38;5;21;01mapi\u001b[39;00m\u001b[38;5;21;01m.\u001b[39;00m\u001b[38;5;21;01mkeras\u001b[39;00m\u001b[38;5;21;01m.\u001b[39;00m\u001b[38;5;21;01mapplications\u001b[39;00m \u001b[38;5;28;01mimport\u001b[39;00m convnext\n\u001b[0;32m      9\u001b[0m \u001b[38;5;28;01mfrom\u001b[39;00m \u001b[38;5;21;01mkeras\u001b[39;00m\u001b[38;5;21;01m.\u001b[39;00m\u001b[38;5;21;01mapi\u001b[39;00m\u001b[38;5;21;01m.\u001b[39;00m\u001b[38;5;21;01mkeras\u001b[39;00m\u001b[38;5;21;01m.\u001b[39;00m\u001b[38;5;21;01mapplications\u001b[39;00m \u001b[38;5;28;01mimport\u001b[39;00m densenet\n\u001b[0;32m     10\u001b[0m \u001b[38;5;28;01mfrom\u001b[39;00m \u001b[38;5;21;01mkeras\u001b[39;00m\u001b[38;5;21;01m.\u001b[39;00m\u001b[38;5;21;01mapi\u001b[39;00m\u001b[38;5;21;01m.\u001b[39;00m\u001b[38;5;21;01mkeras\u001b[39;00m\u001b[38;5;21;01m.\u001b[39;00m\u001b[38;5;21;01mapplications\u001b[39;00m \u001b[38;5;28;01mimport\u001b[39;00m efficientnet\n",
      "File \u001b[1;32m~\\anaconda3\\lib\\site-packages\\keras\\api\\keras\\applications\\convnext\\__init__.py:14\u001b[0m, in \u001b[0;36m<module>\u001b[1;34m\u001b[0m\n\u001b[0;32m      3\u001b[0m \u001b[38;5;124;03m\"\"\"ConvNeXt models for Keras.\u001b[39;00m\n\u001b[0;32m      4\u001b[0m \n\u001b[0;32m      5\u001b[0m \u001b[38;5;124;03mReferences:\u001b[39;00m\n\u001b[1;32m   (...)\u001b[0m\n\u001b[0;32m      9\u001b[0m \n\u001b[0;32m     10\u001b[0m \u001b[38;5;124;03m\"\"\"\u001b[39;00m\n\u001b[0;32m     12\u001b[0m \u001b[38;5;28;01mimport\u001b[39;00m \u001b[38;5;21;01msys\u001b[39;00m \u001b[38;5;28;01mas\u001b[39;00m \u001b[38;5;21;01m_sys\u001b[39;00m\n\u001b[1;32m---> 14\u001b[0m \u001b[38;5;28;01mfrom\u001b[39;00m \u001b[38;5;21;01mkeras\u001b[39;00m\u001b[38;5;21;01m.\u001b[39;00m\u001b[38;5;21;01mapplications\u001b[39;00m\u001b[38;5;21;01m.\u001b[39;00m\u001b[38;5;21;01mconvnext\u001b[39;00m \u001b[38;5;28;01mimport\u001b[39;00m ConvNeXtBase\n\u001b[0;32m     15\u001b[0m \u001b[38;5;28;01mfrom\u001b[39;00m \u001b[38;5;21;01mkeras\u001b[39;00m\u001b[38;5;21;01m.\u001b[39;00m\u001b[38;5;21;01mapplications\u001b[39;00m\u001b[38;5;21;01m.\u001b[39;00m\u001b[38;5;21;01mconvnext\u001b[39;00m \u001b[38;5;28;01mimport\u001b[39;00m ConvNeXtLarge\n\u001b[0;32m     16\u001b[0m \u001b[38;5;28;01mfrom\u001b[39;00m \u001b[38;5;21;01mkeras\u001b[39;00m\u001b[38;5;21;01m.\u001b[39;00m\u001b[38;5;21;01mapplications\u001b[39;00m\u001b[38;5;21;01m.\u001b[39;00m\u001b[38;5;21;01mconvnext\u001b[39;00m \u001b[38;5;28;01mimport\u001b[39;00m ConvNeXtSmall\n",
      "File \u001b[1;32m~\\anaconda3\\lib\\site-packages\\keras\\applications\\__init__.py:49\u001b[0m, in \u001b[0;36m<module>\u001b[1;34m\u001b[0m\n\u001b[0;32m     47\u001b[0m \u001b[38;5;28;01mfrom\u001b[39;00m \u001b[38;5;21;01mkeras\u001b[39;00m\u001b[38;5;21;01m.\u001b[39;00m\u001b[38;5;21;01mapplications\u001b[39;00m\u001b[38;5;21;01m.\u001b[39;00m\u001b[38;5;21;01mnasnet\u001b[39;00m \u001b[38;5;28;01mimport\u001b[39;00m NASNetLarge\n\u001b[0;32m     48\u001b[0m \u001b[38;5;28;01mfrom\u001b[39;00m \u001b[38;5;21;01mkeras\u001b[39;00m\u001b[38;5;21;01m.\u001b[39;00m\u001b[38;5;21;01mapplications\u001b[39;00m\u001b[38;5;21;01m.\u001b[39;00m\u001b[38;5;21;01mnasnet\u001b[39;00m \u001b[38;5;28;01mimport\u001b[39;00m NASNetMobile\n\u001b[1;32m---> 49\u001b[0m \u001b[38;5;28;01mfrom\u001b[39;00m \u001b[38;5;21;01mkeras\u001b[39;00m\u001b[38;5;21;01m.\u001b[39;00m\u001b[38;5;21;01mapplications\u001b[39;00m\u001b[38;5;21;01m.\u001b[39;00m\u001b[38;5;21;01mresnet\u001b[39;00m \u001b[38;5;28;01mimport\u001b[39;00m ResNet50\n\u001b[0;32m     50\u001b[0m \u001b[38;5;28;01mfrom\u001b[39;00m \u001b[38;5;21;01mkeras\u001b[39;00m\u001b[38;5;21;01m.\u001b[39;00m\u001b[38;5;21;01mapplications\u001b[39;00m\u001b[38;5;21;01m.\u001b[39;00m\u001b[38;5;21;01mresnet\u001b[39;00m \u001b[38;5;28;01mimport\u001b[39;00m ResNet101\n\u001b[0;32m     51\u001b[0m \u001b[38;5;28;01mfrom\u001b[39;00m \u001b[38;5;21;01mkeras\u001b[39;00m\u001b[38;5;21;01m.\u001b[39;00m\u001b[38;5;21;01mapplications\u001b[39;00m\u001b[38;5;21;01m.\u001b[39;00m\u001b[38;5;21;01mresnet\u001b[39;00m \u001b[38;5;28;01mimport\u001b[39;00m ResNet152\n",
      "File \u001b[1;32m<frozen importlib._bootstrap>:1007\u001b[0m, in \u001b[0;36m_find_and_load\u001b[1;34m(name, import_)\u001b[0m\n",
      "File \u001b[1;32m<frozen importlib._bootstrap>:982\u001b[0m, in \u001b[0;36m_find_and_load_unlocked\u001b[1;34m(name, import_)\u001b[0m\n",
      "File \u001b[1;32m<frozen importlib._bootstrap>:925\u001b[0m, in \u001b[0;36m_find_spec\u001b[1;34m(name, path, target)\u001b[0m\n",
      "File \u001b[1;32m<frozen importlib._bootstrap_external>:1423\u001b[0m, in \u001b[0;36mfind_spec\u001b[1;34m(cls, fullname, path, target)\u001b[0m\n",
      "File \u001b[1;32m<frozen importlib._bootstrap_external>:1395\u001b[0m, in \u001b[0;36m_get_spec\u001b[1;34m(cls, fullname, path, target)\u001b[0m\n",
      "File \u001b[1;32m<frozen importlib._bootstrap_external>:1522\u001b[0m, in \u001b[0;36mfind_spec\u001b[1;34m(self, fullname, target)\u001b[0m\n",
      "File \u001b[1;32m<frozen importlib._bootstrap_external>:142\u001b[0m, in \u001b[0;36m_path_stat\u001b[1;34m(path)\u001b[0m\n",
      "\u001b[1;31mKeyboardInterrupt\u001b[0m: "
     ]
    }
   ],
   "source": [
    "from tensorflow.keras.models import Sequential\n",
    "from tensorflow.keras.layers import Dense\n",
    "from sklearn.model_selection import train_test_split"
   ]
  },
  {
   "cell_type": "code",
   "execution_count": null,
   "id": "51eb2a31",
   "metadata": {},
   "outputs": [],
   "source": [
    "x_train, x_test, y_train, y_test = train_test_split(x_train, y_train, test_size = 0.2, stratify=y_train, random_state=0)\n",
    "print(x_train.shape)\n",
    "print(y_train.shape)"
   ]
  },
  {
   "cell_type": "code",
   "execution_count": null,
   "id": "bf3453bb",
   "metadata": {},
   "outputs": [],
   "source": [
    "# define the keras model\n",
    "model = Sequential()\n",
    "model.add(Dense(28, input_shape=(29,), activation='relu'))\n",
    "model.add(Dense(14, activation='relu'))\n",
    "model.add(Dense(7, activation='relu'))\n",
    "model.add(Dense(1, activation='sigmoid'))\n",
    "\n",
    "# compile the keras model\n",
    "model.compile(loss='binary_crossentropy', optimizer='adam', metrics=['accuracy'])"
   ]
  },
  {
   "cell_type": "code",
   "execution_count": null,
   "id": "08262651",
   "metadata": {
    "scrolled": true
   },
   "outputs": [],
   "source": [
    "# fit the keras model on the dataset\n",
    "\n",
    "# model.fit(x_train, y_train, epochs=25, batch_size=256, verbose=1)   # loss= 0.6120,  Accuracy= 0.6643\n",
    "\n",
    "\n",
    "# model.fit(x_train, y_train, epochs=25, batch_size=128, verbose=1)   # loss= 0.5530,  Accuracy= 0.7054\n",
    "# model.fit(x_train, y_train, epochs=25, batch_size=128, verbose=1)   # loss= 0.5748,  Accuracy= 0.6913\n",
    "\n",
    "\n",
    "# model.fit(x_train, y_train, epochs=25, batch_size=96, verbose=1)   # loss= 0.5920,  Accuracy= 0.6803\n",
    "\n",
    "\n",
    "# model.fit(x_train, y_train, epochs=25, batch_size=64, verbose=1)   # loss= 0.5859,  Accuracy= 0.6876\n",
    "\n",
    "\n",
    "# model.fit(x_train, y_train, epochs=25, batch_size=32, verbose=1)   # loss= 0.5581,  Accuracy= 0.6983\n",
    "\n",
    "\n",
    "# model.fit(x_train, y_train, epochs=25, batch_size=16, verbose=1)   # loss= 0.4843,  Accuracy= 0.7444\n",
    "# model.fit(x_train, y_train, epochs=25, batch_size=16, verbose=1)   # loss= 0.5373,  Accuracy= 0.7107\n",
    "\n",
    "# model.fit(x_train, y_train, epochs=25, batch_size=14, verbose=1)    # loss= 0.4927,  Accuracy= 0.7370\n",
    "\n",
    "# model.fit(x_train, y_train, epochs=25, batch_size=12, verbose=1)    # loss= 0.4828,  Accuracy= 0.7466    BEST SO FOR\n",
    "\n",
    "# model.fit(x_train, y_train, epochs=25, batch_size=8, verbose=1)    # loss= 0.4916,  Accuracy= 0.7408"
   ]
  },
  {
   "cell_type": "markdown",
   "id": "2bb0caf9",
   "metadata": {},
   "source": [
    "## Logging accuracy against the model:\n",
    "\n",
    "### Model Layers:  29 - 5 - 1\n",
    "#### 300 epochs and 30 batch size  ==>  arount 75% - 77% accuracy\n",
    "\n",
    "### Model Layers:  28 - 14 - 7 - 1\n",
    "#### Epoch: 25     Batch Size: 256     ==>     Loss: 0.6120     Accuracy: 0.6643\n",
    "\n",
    "#### Epoch: 25     Batch Size: 128     ==>     Loss: 0.5530     Accuracy: 0.7054              One more try, and got lower accuracy\n",
    "\n",
    "#### Epoch: 25     Batch Size: 128     ==>     Loss: 0.5748     Accuracy: 0.6913              Better to use a smaller batch size\n",
    "\n",
    "#### Epoch: 25     Batch Size: 096     ==>     Loss: 0.5920     Accuracy: 0.6803\n",
    "\n",
    "#### Epoch: 25     Batch Size: 064     ==>     Loss: 0.5859     Accuracy: 0.6876\n",
    "\n",
    "#### Epoch: 25     Batch Size: 032     ==>     Loss: 0.5581     Accuracy: 0.6983\n",
    "\n",
    "#### Epoch: 25     Batch Size: 016     ==>     Loss: 0.4843     Accuracy: 0.7444              Tried again, accuracy was lower\n",
    "#### Epoch: 25     Batch Size: 016     ==>     Loss: 0.5373     Accuracy: 0.7107              Tried using a lower number batch size\n",
    "\n",
    "#### Epoch: 25     Batch Size: 014     ==>     Loss: 0.4927     Accuracy: 0.7370              Last try to get better at 14\n",
    "\n",
    "#### Epoch: 25     Batch Size: 012     ==>     Loss: 0.4828     Accuracy: 0.7466              BEST SO FAR, will continue with this\n",
    "\n",
    "#### Epoch: 25     Batch Size: 008     ==>     Loss: 0.4916     Accuracy: 0.7408\n"
   ]
  },
  {
   "cell_type": "code",
   "execution_count": null,
   "id": "cf5430be",
   "metadata": {
    "scrolled": true
   },
   "outputs": [],
   "source": [
    "model.fit(x_train, y_train, epochs=150, batch_size=16, verbose=1)"
   ]
  },
  {
   "cell_type": "markdown",
   "id": "50ede2e5",
   "metadata": {},
   "source": [
    "### Even with using an optimized batch size, and a good number of epochs, the best keras model can do is 76% training accuracy, we can also check the testing accuracy"
   ]
  },
  {
   "cell_type": "markdown",
   "id": "b42533f0",
   "metadata": {},
   "source": [
    "# Learning With Logistic Regression"
   ]
  },
  {
   "cell_type": "code",
   "execution_count": 40,
   "id": "4e41bf0b",
   "metadata": {},
   "outputs": [],
   "source": [
    "from sklearn.model_selection import train_test_split\n",
    "from sklearn.linear_model import LogisticRegression\n",
    "from sklearn.metrics import accuracy_score"
   ]
  },
  {
   "cell_type": "code",
   "execution_count": 41,
   "id": "96428981",
   "metadata": {},
   "outputs": [
    {
     "name": "stdout",
     "output_type": "stream",
     "text": [
      "(97955, 29)\n",
      "(97955,)\n"
     ]
    }
   ],
   "source": [
    "print(x_train.shape)\n",
    "print(y_train.shape)"
   ]
  },
  {
   "cell_type": "code",
   "execution_count": 42,
   "id": "38950650",
   "metadata": {},
   "outputs": [],
   "source": [
    "# x_train, x_test, y_train, y_test = train_test_split(x_train, y_train, test_size = 0.2, stratify=y_train, random_state=0)"
   ]
  },
  {
   "cell_type": "code",
   "execution_count": 43,
   "id": "80b113d4",
   "metadata": {},
   "outputs": [
    {
     "name": "stdout",
     "output_type": "stream",
     "text": [
      "(97955, 29) (24489, 29)\n"
     ]
    }
   ],
   "source": [
    "print(x_train.shape, x_test.shape)"
   ]
  },
  {
   "cell_type": "code",
   "execution_count": 44,
   "id": "ae8d0d6f",
   "metadata": {},
   "outputs": [],
   "source": [
    "model2 = LogisticRegression()"
   ]
  },
  {
   "cell_type": "code",
   "execution_count": 45,
   "id": "9def59b0",
   "metadata": {},
   "outputs": [
    {
     "data": {
      "text/plain": [
       "LogisticRegression()"
      ]
     },
     "execution_count": 45,
     "metadata": {},
     "output_type": "execute_result"
    }
   ],
   "source": [
    "model2.fit(x_train,y_train)"
   ]
  },
  {
   "cell_type": "code",
   "execution_count": 46,
   "id": "9ee85cd2",
   "metadata": {},
   "outputs": [
    {
     "name": "stdout",
     "output_type": "stream",
     "text": [
      "Training Data Accuracy:  0.5356949619723342\n"
     ]
    }
   ],
   "source": [
    "x_train_prediction = model2.predict(x_train)\n",
    "training_accuracy = accuracy_score(x_train_prediction,y_train)\n",
    "print(\"Training Data Accuracy: \", training_accuracy)"
   ]
  },
  {
   "cell_type": "code",
   "execution_count": null,
   "id": "d124d524",
   "metadata": {},
   "outputs": [],
   "source": []
  },
  {
   "cell_type": "markdown",
   "id": "69760689",
   "metadata": {},
   "source": [
    "# Learning Using Random Forest"
   ]
  },
  {
   "cell_type": "code",
   "execution_count": 34,
   "id": "2a58a9e7",
   "metadata": {},
   "outputs": [],
   "source": [
    "from sklearn.model_selection import train_test_split\n",
    "from sklearn.ensemble import RandomForestClassifier\n",
    "from sklearn.metrics import accuracy_score"
   ]
  },
  {
   "cell_type": "code",
   "execution_count": 36,
   "id": "60bd2aaa",
   "metadata": {},
   "outputs": [
    {
     "name": "stdout",
     "output_type": "stream",
     "text": [
      "(97955, 29)\n",
      "(97955,)\n"
     ]
    }
   ],
   "source": [
    "x_train, x_test, y_train, y_test = train_test_split(x_train, y_train, test_size = 0.2, stratify=y_train, random_state=0)\n",
    "print(x_train.shape)\n",
    "print(y_train.shape)"
   ]
  },
  {
   "cell_type": "code",
   "execution_count": 47,
   "id": "ef10ffbe",
   "metadata": {},
   "outputs": [
    {
     "name": "stdout",
     "output_type": "stream",
     "text": [
      "The Random Forrest Model has a test accuracy of:  0.9317652823716771\n"
     ]
    }
   ],
   "source": [
    "model3 = RandomForestClassifier(n_estimators=10)\n",
    "model3.fit(x_train,y_train)\n",
    "test_accuracy = model3.score(x_test,y_test)\n",
    "\n",
    "print(\"The Random Forrest Model has a test accuracy of: \", test_accuracy)"
   ]
  },
  {
   "cell_type": "code",
   "execution_count": 48,
   "id": "87f5ae31",
   "metadata": {},
   "outputs": [
    {
     "name": "stdout",
     "output_type": "stream",
     "text": [
      "The Random Forrest Model has a test accuracy of:  0.9407080730123729\n"
     ]
    }
   ],
   "source": [
    "model3 = RandomForestClassifier(n_estimators=15)\n",
    "model3.fit(x_train,y_train)\n",
    "test_accuracy = model3.score(x_test,y_test)\n",
    "\n",
    "print(\"The Random Forrest Model has a test accuracy of: \", test_accuracy)"
   ]
  },
  {
   "cell_type": "code",
   "execution_count": 49,
   "id": "8bf86376",
   "metadata": {},
   "outputs": [
    {
     "name": "stdout",
     "output_type": "stream",
     "text": [
      "The Random Forrest Model has a test accuracy of:  0.9429539793376618\n"
     ]
    }
   ],
   "source": [
    "model3 = RandomForestClassifier(n_estimators=20)\n",
    "model3.fit(x_train,y_train)\n",
    "test_accuracy = model3.score(x_test,y_test)\n",
    "\n",
    "print(\"The Random Forrest Model has a test accuracy of: \", test_accuracy)"
   ]
  },
  {
   "cell_type": "code",
   "execution_count": 50,
   "id": "9a409d0b",
   "metadata": {},
   "outputs": [
    {
     "name": "stdout",
     "output_type": "stream",
     "text": [
      "The Random Forrest Model has a test accuracy of:  0.9440156805096166\n"
     ]
    }
   ],
   "source": [
    "model3 = RandomForestClassifier(n_estimators=25)\n",
    "model3.fit(x_train,y_train)\n",
    "test_accuracy = model3.score(x_test,y_test)\n",
    "\n",
    "print(\"The Random Forrest Model has a test accuracy of: \", test_accuracy)"
   ]
  },
  {
   "cell_type": "code",
   "execution_count": 51,
   "id": "760ed6bd",
   "metadata": {},
   "outputs": [
    {
     "name": "stdout",
     "output_type": "stream",
     "text": [
      "The Random Forrest Model has a test accuracy of:  0.9434439952631793\n"
     ]
    }
   ],
   "source": [
    "model3 = RandomForestClassifier(n_estimators=30)\n",
    "model3.fit(x_train,y_train)\n",
    "test_accuracy = model3.score(x_test,y_test)\n",
    "\n",
    "print(\"The Random Forrest Model has a test accuracy of: \", test_accuracy)"
   ]
  },
  {
   "cell_type": "code",
   "execution_count": 52,
   "id": "df036691",
   "metadata": {},
   "outputs": [
    {
     "name": "stdout",
     "output_type": "stream",
     "text": [
      "The Random Forrest Model has a test accuracy of:  0.9454040589652497\n"
     ]
    }
   ],
   "source": [
    "model3 = RandomForestClassifier(n_estimators=50)\n",
    "model3.fit(x_train,y_train)\n",
    "test_accuracy = model3.score(x_test,y_test)\n",
    "\n",
    "print(\"The Random Forrest Model has a test accuracy of: \", test_accuracy)"
   ]
  },
  {
   "cell_type": "code",
   "execution_count": 53,
   "id": "c48a4f8b",
   "metadata": {},
   "outputs": [
    {
     "name": "stdout",
     "output_type": "stream",
     "text": [
      "The Random Forrest Model has a test accuracy of:  0.9465065947976643\n"
     ]
    }
   ],
   "source": [
    "model3 = RandomForestClassifier(n_estimators=100)\n",
    "model3.fit(x_train,y_train)\n",
    "test_accuracy = model3.score(x_test,y_test)\n",
    "\n",
    "print(\"The Random Forrest Model has a test accuracy of: \", test_accuracy)"
   ]
  },
  {
   "cell_type": "code",
   "execution_count": null,
   "id": "cc0d21ef",
   "metadata": {},
   "outputs": [],
   "source": []
  },
  {
   "cell_type": "code",
   "execution_count": null,
   "id": "161486fa",
   "metadata": {},
   "outputs": [],
   "source": []
  },
  {
   "cell_type": "code",
   "execution_count": null,
   "id": "791cdacf",
   "metadata": {},
   "outputs": [],
   "source": []
  },
  {
   "cell_type": "code",
   "execution_count": null,
   "id": "873a399f",
   "metadata": {},
   "outputs": [],
   "source": []
  }
